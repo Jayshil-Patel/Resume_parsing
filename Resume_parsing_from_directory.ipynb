{
 "cells": [
  {
   "cell_type": "code",
   "execution_count": 1,
   "metadata": {},
   "outputs": [],
   "source": [
    "import os\n",
    "import csv\n",
    "import PyPDF2\n",
    "import re\n",
    "\n"
   ]
  },
  {
   "cell_type": "code",
   "execution_count": 2,
   "metadata": {},
   "outputs": [],
   "source": [
    "# Function to extract text from a PDF\n",
    "def extract_text_from_pdf(pdf_path):\n",
    "    pdf_reader = PyPDF2.PdfReader(pdf_path)\n",
    "    text = \"\"\n",
    "    for page in pdf_reader.pages:\n",
    "        text += page.extract_text() or \"\"\n",
    "    return text.lower()\n",
    "\n"
   ]
  },
  {
   "cell_type": "code",
   "execution_count": 3,
   "metadata": {},
   "outputs": [],
   "source": [
    "# Preprocess text to remove newlines and extra spaces\n",
    "def preprocess_text(text):\n",
    "    text = text.replace('\\n', ' ').replace('  ', ' ')\n",
    "    return text\n",
    "\n"
   ]
  },
  {
   "cell_type": "code",
   "execution_count": 4,
   "metadata": {},
   "outputs": [],
   "source": [
    "# Identify the education level in the text\n",
    "def find_education_level(text):\n",
    "    patterns = {\n",
    "        'bachelor': r'\\b(bachelor|b\\.s\\.|bsc|b\\.eng|b\\.a\\.)\\b',\n",
    "        'master': r'\\b(master|m\\.s\\.|msc|m\\.eng|m\\.a\\.)\\b',\n",
    "        'doctorate': r'\\b(ph\\.d\\.|doctorate|dphil|doctoral)\\b'\n",
    "    }\n",
    "    if re.search(patterns['doctorate'], text):\n",
    "        return \"Doctorate\"\n",
    "    elif re.search(patterns['master'], text):\n",
    "        return \"Master's\"\n",
    "    elif re.search(patterns['bachelor'], text):\n",
    "        return \"Bachelor's\"\n",
    "    else:\n",
    "        return \"No Bachelor's Degree\"\n",
    "\n"
   ]
  },
  {
   "cell_type": "code",
   "execution_count": 5,
   "metadata": {},
   "outputs": [],
   "source": [
    "# Function to count keywords in text\n",
    "def extract_keywords(text, keywords):\n",
    "    keyword_counts = {}\n",
    "    for keyword in keywords:\n",
    "        pattern = re.escape(keyword.lower())\n",
    "        count = len(re.findall(rf'\\b{pattern}\\b', text))\n",
    "        keyword_counts[keyword] = count\n",
    "    return keyword_counts\n",
    "\n"
   ]
  },
  {
   "cell_type": "code",
   "execution_count": 6,
   "metadata": {},
   "outputs": [],
   "source": [
    "# Process resumes in a directory and save to CSV\n",
    "def process_resumes(directory, keywords, required_education, output_csv):\n",
    "    results = []\n",
    "    education_hierarchy = {\n",
    "        \"No Bachelor's Degree\": 0,\n",
    "        \"Bachelor's\": 1,\n",
    "        \"Master's\": 2,\n",
    "        \"Doctorate\": 3\n",
    "    }\n",
    "\n",
    "    for filename in os.listdir(directory):\n",
    "        if filename.endswith(\".pdf\"):\n",
    "            pdf_path = os.path.join(directory, filename)\n",
    "            raw_text = extract_text_from_pdf(pdf_path)\n",
    "            processed_text = preprocess_text(raw_text)\n",
    "\n",
    "            # Extract education level and keyword counts\n",
    "            education_level = find_education_level(processed_text)\n",
    "            keyword_counts = extract_keywords(processed_text, keywords)\n",
    "\n",
    "            # Check if the candidate meets the education requirement\n",
    "            education_status = (\n",
    "                \"Meets requirement\"\n",
    "                if education_hierarchy[education_level] >= education_hierarchy[required_education]\n",
    "                else \"Does not meet requirement\"\n",
    "            )\n",
    "\n",
    "            # Add data to results list\n",
    "            resume_data = {\n",
    "                \"Filename\": filename,\n",
    "                \"Education Level\": education_level,\n",
    "                \"Education Status\": education_status,\n",
    "            }\n",
    "            resume_data.update(keyword_counts)\n",
    "            results.append(resume_data)\n",
    "\n",
    "    # Write results to CSV\n",
    "    with open(output_csv, mode='w', newline='') as csvfile:\n",
    "        fieldnames = [\"Filename\", \"Education Level\", \"Education Status\"] + keywords\n",
    "        writer = csv.DictWriter(csvfile, fieldnames=fieldnames)\n",
    "        writer.writeheader()\n",
    "        for row in results:\n",
    "            writer.writerow(row)\n",
    "\n"
   ]
  },
  {
   "cell_type": "code",
   "execution_count": 7,
   "metadata": {},
   "outputs": [
    {
     "name": "stdout",
     "output_type": "stream",
     "text": [
      "Resume information has been saved to resume_results.csv.\n"
     ]
    }
   ],
   "source": [
    "# Parameters\n",
    "directory = \"res\"  # Replace with your directory path\n",
    "keywords = ['python', 'data', 'data structures', 'machine learning', 'data analysis', 'neural networks']\n",
    "required_education = \"Bachelor's\"  # Set the required education level\n",
    "output_csv = \"resume_results.csv\"\n",
    "\n",
    "# Process resumes and save to CSV\n",
    "process_resumes(directory, keywords, required_education, output_csv)\n",
    "print(f\"Resume information has been saved to {output_csv}.\")\n"
   ]
  }
 ],
 "metadata": {
  "kernelspec": {
   "display_name": "Python 3",
   "language": "python",
   "name": "python3"
  },
  "language_info": {
   "codemirror_mode": {
    "name": "ipython",
    "version": 3
   },
   "file_extension": ".py",
   "mimetype": "text/x-python",
   "name": "python",
   "nbconvert_exporter": "python",
   "pygments_lexer": "ipython3",
   "version": "3.11.5"
  }
 },
 "nbformat": 4,
 "nbformat_minor": 2
}
