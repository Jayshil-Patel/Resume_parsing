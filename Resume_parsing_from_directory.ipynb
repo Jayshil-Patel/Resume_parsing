{
 "cells": [
  {
   "cell_type": "code",
   "execution_count": 14,
   "metadata": {},
   "outputs": [],
   "source": [
    "import os\n",
    "import csv\n",
    "import PyPDF2\n",
    "import re\n",
    "\n"
   ]
  },
  {
   "cell_type": "code",
   "execution_count": 15,
   "metadata": {},
   "outputs": [],
   "source": [
    "# Function to extract text from a PDF\n",
    "def extract_text_from_pdf(pdf_path):\n",
    "    pdf_reader = PyPDF2.PdfReader(pdf_path)\n",
    "    text = \"\"\n",
    "    for page in pdf_reader.pages:\n",
    "        text += page.extract_text() or \"\"\n",
    "    return text.lower()\n",
    "\n"
   ]
  },
  {
   "cell_type": "code",
   "execution_count": 16,
   "metadata": {},
   "outputs": [],
   "source": [
    "# Preprocess text to remove newlines and extra spaces\n",
    "def preprocess_text(text):\n",
    "    text = text.replace('\\n', ' ').replace('  ', ' ')\n",
    "    return text\n",
    "\n"
   ]
  },
  {
   "cell_type": "code",
   "execution_count": 17,
   "metadata": {},
   "outputs": [],
   "source": [
    "# Identify the education level in the text\n",
    "def find_education_level(text):\n",
    "    patterns = {\n",
    "        'bachelor': r'\\b(bachelor|b\\.s\\.|bsc|b\\.eng|b\\.a\\.)\\b',\n",
    "        'master': r'\\b(master|m\\.s\\.|msc|m\\.eng|m\\.a\\.)\\b',\n",
    "        'doctorate': r'\\b(ph\\.d\\.|doctorate|dphil|doctoral)\\b'\n",
    "    }\n",
    "    if re.search(patterns['doctorate'], text):\n",
    "        return \"Doctorate\"\n",
    "    elif re.search(patterns['master'], text):\n",
    "        return \"Master's\"\n",
    "    elif re.search(patterns['bachelor'], text):\n",
    "        return \"Bachelor's\"\n",
    "    else:\n",
    "        return \"No Bachelor's Degree\"\n",
    "\n"
   ]
  },
  {
   "cell_type": "code",
   "execution_count": 18,
   "metadata": {},
   "outputs": [],
   "source": [
    "# Function to count keywords in text\n",
    "def extract_keywords(text, keywords):\n",
    "    keyword_counts = {}\n",
    "    for keyword in keywords:\n",
    "        pattern = re.escape(keyword.lower())\n",
    "        count = len(re.findall(rf'\\b{pattern}\\b', text))\n",
    "        keyword_counts[keyword] = count\n",
    "    return keyword_counts\n",
    "\n"
   ]
  },
  {
   "cell_type": "code",
   "execution_count": 19,
   "metadata": {},
   "outputs": [],
   "source": [
    "# Function to determine probable industry based on keywords\n",
    "def match_industry(text, industry_keywords):\n",
    "    industry_scores = defaultdict(int)\n",
    "    for industry, keywords in industry_keywords.items():\n",
    "        for keyword in keywords:\n",
    "            pattern = re.escape(keyword.lower())\n",
    "            matches = len(re.findall(rf'\\b{pattern}\\b', text))\n",
    "            industry_scores[industry] += matches\n",
    "    # Find the industry with the highest score\n",
    "    probable_industry = max(industry_scores, key=industry_scores.get)\n",
    "    return probable_industry if industry_scores[probable_industry] > 0 else \"Unknown\""
   ]
  },
  {
   "cell_type": "code",
   "execution_count": 20,
   "metadata": {},
   "outputs": [],
   "source": [
    "# Process resumes in a directory and save to CSV\n",
    "# no diploma rank\n",
    "def process_resumes(directory, keywords, required_education,industry_keywords, output_csv):\n",
    "    results = []\n",
    "    education_hierarchy = {\n",
    "        \"No Bachelor's Degree\": 0, \n",
    "        \"Bachelor's\": 1,\n",
    "        \"Master's\": 2,\n",
    "        \"Doctorate\": 3\n",
    "    }\n",
    "\n",
    "    for filename in os.listdir(directory):\n",
    "        if filename.endswith(\".pdf\"):\n",
    "            pdf_path = os.path.join(directory, filename)\n",
    "            raw_text = extract_text_from_pdf(pdf_path)\n",
    "            processed_text = preprocess_text(raw_text)\n",
    "\n",
    "            # Extract education level and keyword counts\n",
    "            education_level = find_education_level(processed_text)\n",
    "            keyword_counts = extract_keywords(processed_text, keywords)\n",
    "\n",
    "             # Determine probable industry\n",
    "            probable_industry = match_industry(processed_text, industry_keywords)\n",
    "\n",
    "            # Check if the candidate meets the education requirement\n",
    "            education_status = (\n",
    "                \"Meets requirement\"\n",
    "                if education_hierarchy[education_level] >= education_hierarchy[required_education]\n",
    "                else \"Does not meet requirement\"\n",
    "            )\n",
    "\n",
    "            # Add data to results list\n",
    "            resume_data = {\n",
    "                \"Filename\": filename,\n",
    "                \"Education Level\": education_level,\n",
    "                \"Education Status\": education_status,\n",
    "            }\n",
    "            resume_data.update(keyword_counts)\n",
    "            results.append(resume_data)\n",
    "\n",
    "    # Write results to CSV\n",
    "    with open(output_csv, mode='w', newline='') as csvfile:\n",
    "        fieldnames = [\"Filename\", \"Education Level\", \"Education Status\"] + keywords\n",
    "        writer = csv.DictWriter(csvfile, fieldnames=fieldnames)\n",
    "        writer.writeheader()\n",
    "        for row in results:\n",
    "            writer.writerow(row)\n",
    "\n"
   ]
  },
  {
   "cell_type": "code",
   "execution_count": null,
   "metadata": {},
   "outputs": [],
   "source": []
  },
  {
   "cell_type": "code",
   "execution_count": 21,
   "metadata": {},
   "outputs": [],
   "source": [
    "# Define industry keywords for matching\n",
    "industry_keywords = {\n",
    "    \"Software Development\": [\"software development\", \"programming\", \"application development\", \"coding\"],\n",
    "    \"Data Science\": [\"data science\", \"machine learning\", \"data analysis\", \"statistical modeling\"],\n",
    "    \"Finance\": [\"investment\", \"portfolio management\", \"financial analysis\", \"accounting\"],\n",
    "    \"Marketing\": [\"branding\", \"marketing\", \"advertising\", \"SEO\", \"social media\"]\n",
    "}"
   ]
  },
  {
   "cell_type": "code",
   "execution_count": 22,
   "metadata": {},
   "outputs": [
    {
     "ename": "NameError",
     "evalue": "name 'defaultdict' is not defined",
     "output_type": "error",
     "traceback": [
      "\u001b[1;31m---------------------------------------------------------------------------\u001b[0m",
      "\u001b[1;31mNameError\u001b[0m                                 Traceback (most recent call last)",
      "Cell \u001b[1;32mIn[22], line 8\u001b[0m\n\u001b[0;32m      5\u001b[0m output_csv \u001b[38;5;241m=\u001b[39m \u001b[38;5;124m\"\u001b[39m\u001b[38;5;124mresume_results.csv\u001b[39m\u001b[38;5;124m\"\u001b[39m\n\u001b[0;32m      7\u001b[0m \u001b[38;5;66;03m# Process resumes and save to CSV\u001b[39;00m\n\u001b[1;32m----> 8\u001b[0m \u001b[43mprocess_resumes\u001b[49m\u001b[43m(\u001b[49m\u001b[43mdirectory\u001b[49m\u001b[43m,\u001b[49m\u001b[43m \u001b[49m\u001b[43mkeywords\u001b[49m\u001b[43m,\u001b[49m\u001b[43m \u001b[49m\u001b[43mrequired_education\u001b[49m\u001b[43m,\u001b[49m\u001b[43mindustry_keywords\u001b[49m\u001b[43m,\u001b[49m\u001b[43m \u001b[49m\u001b[43moutput_csv\u001b[49m\u001b[43m)\u001b[49m\n\u001b[0;32m      9\u001b[0m \u001b[38;5;28mprint\u001b[39m(\u001b[38;5;124mf\u001b[39m\u001b[38;5;124m\"\u001b[39m\u001b[38;5;124mResume information has been saved to \u001b[39m\u001b[38;5;132;01m{\u001b[39;00moutput_csv\u001b[38;5;132;01m}\u001b[39;00m\u001b[38;5;124m.\u001b[39m\u001b[38;5;124m\"\u001b[39m)\n",
      "Cell \u001b[1;32mIn[20], line 23\u001b[0m, in \u001b[0;36mprocess_resumes\u001b[1;34m(directory, keywords, required_education, industry_keywords, output_csv)\u001b[0m\n\u001b[0;32m     20\u001b[0m keyword_counts \u001b[38;5;241m=\u001b[39m extract_keywords(processed_text, keywords)\n\u001b[0;32m     22\u001b[0m  \u001b[38;5;66;03m# Determine probable industry\u001b[39;00m\n\u001b[1;32m---> 23\u001b[0m probable_industry \u001b[38;5;241m=\u001b[39m \u001b[43mmatch_industry\u001b[49m\u001b[43m(\u001b[49m\u001b[43mprocessed_text\u001b[49m\u001b[43m,\u001b[49m\u001b[43m \u001b[49m\u001b[43mindustry_keywords\u001b[49m\u001b[43m)\u001b[49m\n\u001b[0;32m     25\u001b[0m \u001b[38;5;66;03m# Check if the candidate meets the education requirement\u001b[39;00m\n\u001b[0;32m     26\u001b[0m education_status \u001b[38;5;241m=\u001b[39m (\n\u001b[0;32m     27\u001b[0m     \u001b[38;5;124m\"\u001b[39m\u001b[38;5;124mMeets requirement\u001b[39m\u001b[38;5;124m\"\u001b[39m\n\u001b[0;32m     28\u001b[0m     \u001b[38;5;28;01mif\u001b[39;00m education_hierarchy[education_level] \u001b[38;5;241m>\u001b[39m\u001b[38;5;241m=\u001b[39m education_hierarchy[required_education]\n\u001b[0;32m     29\u001b[0m     \u001b[38;5;28;01melse\u001b[39;00m \u001b[38;5;124m\"\u001b[39m\u001b[38;5;124mDoes not meet requirement\u001b[39m\u001b[38;5;124m\"\u001b[39m\n\u001b[0;32m     30\u001b[0m )\n",
      "Cell \u001b[1;32mIn[19], line 3\u001b[0m, in \u001b[0;36mmatch_industry\u001b[1;34m(text, industry_keywords)\u001b[0m\n\u001b[0;32m      2\u001b[0m \u001b[38;5;28;01mdef\u001b[39;00m \u001b[38;5;21mmatch_industry\u001b[39m(text, industry_keywords):\n\u001b[1;32m----> 3\u001b[0m     industry_scores \u001b[38;5;241m=\u001b[39m \u001b[43mdefaultdict\u001b[49m(\u001b[38;5;28mint\u001b[39m)\n\u001b[0;32m      4\u001b[0m     \u001b[38;5;28;01mfor\u001b[39;00m industry, keywords \u001b[38;5;129;01min\u001b[39;00m industry_keywords\u001b[38;5;241m.\u001b[39mitems():\n\u001b[0;32m      5\u001b[0m         \u001b[38;5;28;01mfor\u001b[39;00m keyword \u001b[38;5;129;01min\u001b[39;00m keywords:\n",
      "\u001b[1;31mNameError\u001b[0m: name 'defaultdict' is not defined"
     ]
    }
   ],
   "source": [
    "# Parameters\n",
    "directory = \"res\"  # Replace with your directory path\n",
    "keywords = ['python', 'data', 'data structures', 'machine learning', 'data analysis', 'neural networks']\n",
    "required_education = \"Bachelor's\"  # Set the required education level\n",
    "output_csv = \"resume_results.csv\"\n",
    "\n",
    "# Process resumes and save to CSV\n",
    "process_resumes(directory, keywords, required_education,industry_keywords, output_csv)\n",
    "print(f\"Resume information has been saved to {output_csv}.\")\n"
   ]
  }
 ],
 "metadata": {
  "kernelspec": {
   "display_name": "Python 3",
   "language": "python",
   "name": "python3"
  },
  "language_info": {
   "codemirror_mode": {
    "name": "ipython",
    "version": 3
   },
   "file_extension": ".py",
   "mimetype": "text/x-python",
   "name": "python",
   "nbconvert_exporter": "python",
   "pygments_lexer": "ipython3",
   "version": "3.11.5"
  }
 },
 "nbformat": 4,
 "nbformat_minor": 2
}
