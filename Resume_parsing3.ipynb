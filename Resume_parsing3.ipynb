{
 "cells": [
  {
   "cell_type": "code",
   "execution_count": 1,
   "metadata": {},
   "outputs": [],
   "source": [
    "import fitz  # For PDF extraction\n",
    "import spacy  # For NLP\n",
    "from sklearn.feature_extraction.text import TfidfVectorizer\n",
    "from sklearn.metrics.pairwise import cosine_similarity"
   ]
  },
  {
   "cell_type": "code",
   "execution_count": 2,
   "metadata": {},
   "outputs": [],
   "source": [
    "# Load spaCy's language model\n",
    "nlp = spacy.load(\"en_core_web_sm\")\n"
   ]
  },
  {
   "cell_type": "code",
   "execution_count": 3,
   "metadata": {},
   "outputs": [],
   "source": [
    "# Helper function to extract text from PDF\n",
    "def extract_text_from_pdf(pdf_path):\n",
    "    doc = fitz.open(pdf_path)\n",
    "    text = \"\"\n",
    "    for page_num in range(len(doc)):\n",
    "        page = doc.load_page(page_num)\n",
    "        text += page.get_text(\"text\")\n",
    "    return text\n",
    "\n",
    "# Helper function to split resume text into sections (e.g., Education, Experience, Skills)\n",
    "import re\n",
    "\n",
    "def split_resume_into_sections(resume_text):\n",
    "    # Define section headings and use regex to capture section breaks\n",
    "    section_patterns = {\n",
    "        'Education': r'\\b(education|academic background)\\b',\n",
    "        'Experience': r'\\b(experience|employment history|work history)\\b',\n",
    "        'Skills': r'\\b(skills|abilities|expertise|technical skills)\\b',\n",
    "        'Certifications': r'\\b(certifications|licenses|courses)\\b',\n",
    "        'Projects': r'\\b(projects|side projects|personal projects)\\b',\n",
    "        'Additional Experience': r'\\b(additional experience|other experience)\\b'\n",
    "    }\n",
    "\n",
    "    sections = {}\n",
    "    \n",
    "    # Normalize text to lowercase\n",
    "    resume_text = resume_text.lower()\n",
    "\n",
    "    # Store the location of each section heading found\n",
    "    section_locations = {}\n",
    "    for section, pattern in section_patterns.items():\n",
    "        match = re.search(pattern, resume_text)\n",
    "        if match:\n",
    "            section_locations[section] = match.start()\n",
    "    \n",
    "    # Sort sections by the location they appear in the resume\n",
    "    sorted_sections = sorted(section_locations.items(), key=lambda x: x[1])\n",
    "    \n",
    "    # Extract content for each section by finding the text between two section headings\n",
    "    for i, (section, start_idx) in enumerate(sorted_sections):\n",
    "        if i + 1 < len(sorted_sections):\n",
    "            end_idx = sorted_sections[i + 1][1]\n",
    "        else:\n",
    "            end_idx = len(resume_text)\n",
    "        \n",
    "        sections[section] = resume_text[start_idx:end_idx].strip()\n",
    "    \n",
    "    return sections\n",
    "\n",
    "\n",
    "# Function to compare resume sections with job description sections\n",
    "def compare_resume_with_job(resume_sections, job_description_sections):\n",
    "    results = {}\n",
    "    for section, resume_content in resume_sections.items():\n",
    "        job_content = job_description_sections.get(section, \"\")\n",
    "        similarity = compute_similarity(resume_content, job_content)\n",
    "        results[section] = similarity\n",
    "    return results\n",
    "\n",
    "# Helper function to compute similarity between two texts\n",
    "def compute_similarity(text1, text2):\n",
    "    vectorizer = TfidfVectorizer().fit_transform([text1, text2])\n",
    "    vectors = vectorizer.toarray()\n",
    "    return cosine_similarity(vectors)[0, 1]\n",
    "\n",
    "# Sample job description split into sections\n",
    "job_description_sections = {\n",
    "    'Education': 'BSc in Computer Science or related field',\n",
    "    'Experience': '3+ years of software development experience, particularly in Python and Django',\n",
    "    'Skills': 'Proficiency in Python, Django, and front-end technologies like React',\n",
    "    'Certifications': 'Relevant certifications like AWS or Google Cloud Architect'\n",
    "}\n",
    "\n",
    "# Main function to process resume and compare it to the job description\n",
    "def process_resume(pdf_path, job_description_sections):\n",
    "    resume_text = extract_text_from_pdf(pdf_path)\n",
    "    resume_sections = split_resume_into_sections(resume_text)\n",
    "    comparison_results = compare_resume_with_job(resume_sections, job_description_sections)\n",
    "    \n",
    "    # Print or return the similarity results for each section\n",
    "    for section, similarity in comparison_results.items():\n",
    "        print(f\"{section}: Similarity Score = {similarity:.2f}\")\n",
    "    \n",
    "    return resume_sections, resume_text, comparison_results"
   ]
  },
  {
   "cell_type": "code",
   "execution_count": 4,
   "metadata": {},
   "outputs": [
    {
     "name": "stdout",
     "output_type": "stream",
     "text": [
      "Experience: Similarity Score = 0.36\n",
      "Skills: Similarity Score = 0.32\n",
      "Projects: Similarity Score = 0.00\n",
      "Education: Similarity Score = 0.22\n",
      "Certifications: Similarity Score = 0.14\n",
      "Additional Experience: Similarity Score = 0.00\n"
     ]
    }
   ],
   "source": [
    "# Example usage:\n",
    "\n",
    "pdf_path = \"resume.pdf\"  # Provide the path to the resume PDF\n",
    "resume_section,  resume_text, comparison_results= process_resume(pdf_path, job_description_sections)\n"
   ]
  },
  {
   "cell_type": "code",
   "execution_count": 5,
   "metadata": {},
   "outputs": [
    {
     "name": "stdout",
     "output_type": "stream",
     "text": [
      "education\n",
      "bachelor of science (bsc) in computer science\n",
      "university of xyz | graduation: may 2019\n",
      "relevant coursework:\n",
      "●\n",
      "data structures and algorithms\n",
      "●\n",
      "web development\n",
      "●\n",
      "database management systems\n",
      "●\n",
      "cloud computing\n"
     ]
    }
   ],
   "source": [
    "print(resume_section['Education'])"
   ]
  }
 ],
 "metadata": {
  "kernelspec": {
   "display_name": "Python 3",
   "language": "python",
   "name": "python3"
  },
  "language_info": {
   "codemirror_mode": {
    "name": "ipython",
    "version": 3
   },
   "file_extension": ".py",
   "mimetype": "text/x-python",
   "name": "python",
   "nbconvert_exporter": "python",
   "pygments_lexer": "ipython3",
   "version": "3.11.5"
  }
 },
 "nbformat": 4,
 "nbformat_minor": 2
}
