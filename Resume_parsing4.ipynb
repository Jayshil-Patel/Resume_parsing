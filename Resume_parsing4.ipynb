{
 "cells": [
  {
   "cell_type": "code",
   "execution_count": 3,
   "metadata": {},
   "outputs": [],
   "source": [
    "import openai\n",
    "import re\n",
    "import PyPDF2\n",
    "\n"
   ]
  },
  {
   "cell_type": "code",
   "execution_count": 6,
   "metadata": {},
   "outputs": [
    {
     "name": "stdout",
     "output_type": "stream",
     "text": [
      "Collecting openai==0.28Note: you may need to restart the kernel to use updated packages.\n"
     ]
    },
    {
     "name": "stderr",
     "output_type": "stream",
     "text": [
      "\n",
      "[notice] A new release of pip is available: 23.2.1 -> 24.2\n",
      "[notice] To update, run: python.exe -m pip install --upgrade pip\n"
     ]
    },
    {
     "name": "stdout",
     "output_type": "stream",
     "text": [
      "\n",
      "  Obtaining dependency information for openai==0.28 from https://files.pythonhosted.org/packages/ae/59/911d6e5f1d7514d79c527067643376cddcf4cb8d1728e599b3b03ab51c69/openai-0.28.0-py3-none-any.whl.metadata\n",
      "  Downloading openai-0.28.0-py3-none-any.whl.metadata (13 kB)\n",
      "Requirement already satisfied: requests>=2.20 in d:\\softwares\\python3_11\\lib\\site-packages (from openai==0.28) (2.31.0)\n",
      "Requirement already satisfied: tqdm in d:\\softwares\\python3_11\\lib\\site-packages (from openai==0.28) (4.66.2)\n",
      "Requirement already satisfied: aiohttp in d:\\softwares\\python3_11\\lib\\site-packages (from openai==0.28) (3.9.3)\n",
      "Requirement already satisfied: charset-normalizer<4,>=2 in d:\\softwares\\python3_11\\lib\\site-packages (from requests>=2.20->openai==0.28) (3.3.2)\n",
      "Requirement already satisfied: idna<4,>=2.5 in d:\\softwares\\python3_11\\lib\\site-packages (from requests>=2.20->openai==0.28) (3.6)\n",
      "Requirement already satisfied: urllib3<3,>=1.21.1 in d:\\softwares\\python3_11\\lib\\site-packages (from requests>=2.20->openai==0.28) (2.2.1)\n",
      "Requirement already satisfied: certifi>=2017.4.17 in d:\\softwares\\python3_11\\lib\\site-packages (from requests>=2.20->openai==0.28) (2024.2.2)\n",
      "Requirement already satisfied: aiosignal>=1.1.2 in d:\\softwares\\python3_11\\lib\\site-packages (from aiohttp->openai==0.28) (1.3.1)\n",
      "Requirement already satisfied: attrs>=17.3.0 in d:\\softwares\\python3_11\\lib\\site-packages (from aiohttp->openai==0.28) (23.2.0)\n",
      "Requirement already satisfied: frozenlist>=1.1.1 in d:\\softwares\\python3_11\\lib\\site-packages (from aiohttp->openai==0.28) (1.4.1)\n",
      "Requirement already satisfied: multidict<7.0,>=4.5 in d:\\softwares\\python3_11\\lib\\site-packages (from aiohttp->openai==0.28) (6.0.5)\n",
      "Requirement already satisfied: yarl<2.0,>=1.0 in d:\\softwares\\python3_11\\lib\\site-packages (from aiohttp->openai==0.28) (1.9.4)\n",
      "Requirement already satisfied: colorama in c:\\users\\jaysh\\appdata\\roaming\\python\\python311\\site-packages (from tqdm->openai==0.28) (0.4.6)\n",
      "Downloading openai-0.28.0-py3-none-any.whl (76 kB)\n",
      "   ---------------------------------------- 0.0/76.5 kB ? eta -:--:--\n",
      "   ----- ---------------------------------- 10.2/76.5 kB ? eta -:--:--\n",
      "   ------------------------------------- -- 71.7/76.5 kB 777.7 kB/s eta 0:00:01\n",
      "   ---------------------------------------- 76.5/76.5 kB 839.3 kB/s eta 0:00:00\n",
      "Installing collected packages: openai\n",
      "  Attempting uninstall: openai\n",
      "    Found existing installation: openai 1.12.0\n",
      "    Uninstalling openai-1.12.0:\n",
      "      Successfully uninstalled openai-1.12.0\n",
      "Successfully installed openai-0.28.0\n"
     ]
    }
   ],
   "source": [
    "pip install openai==0.28"
   ]
  },
  {
   "cell_type": "code",
   "execution_count": 4,
   "metadata": {},
   "outputs": [],
   "source": [
    "from key import key"
   ]
  },
  {
   "cell_type": "code",
   "execution_count": 7,
   "metadata": {},
   "outputs": [
    {
     "ename": "APIRemovedInV1",
     "evalue": "\n\nYou tried to access openai.Completion, but this is no longer supported in openai>=1.0.0 - see the README at https://github.com/openai/openai-python for the API.\n\nYou can run `openai migrate` to automatically upgrade your codebase to use the 1.0.0 interface. \n\nAlternatively, you can pin your installation to the old version, e.g. `pip install openai==0.28`\n\nA detailed migration guide is available here: https://github.com/openai/openai-python/discussions/742\n",
     "output_type": "error",
     "traceback": [
      "\u001b[1;31m---------------------------------------------------------------------------\u001b[0m",
      "\u001b[1;31mAPIRemovedInV1\u001b[0m                            Traceback (most recent call last)",
      "Cell \u001b[1;32mIn[7], line 74\u001b[0m\n\u001b[0;32m     71\u001b[0m resume_text \u001b[38;5;241m=\u001b[39m read_pdf(resume_path)\n\u001b[0;32m     73\u001b[0m \u001b[38;5;66;03m# Extract structured sections using OpenAI and get the cost\u001b[39;00m\n\u001b[1;32m---> 74\u001b[0m sections, extraction_cost \u001b[38;5;241m=\u001b[39m \u001b[43mextract_resume_sections_with_openai\u001b[49m\u001b[43m(\u001b[49m\u001b[43mresume_text\u001b[49m\u001b[43m)\u001b[49m\n\u001b[0;32m     75\u001b[0m \u001b[38;5;28mprint\u001b[39m(\u001b[38;5;124m\"\u001b[39m\u001b[38;5;124mExtracted Resume Sections:\u001b[39m\u001b[38;5;130;01m\\n\u001b[39;00m\u001b[38;5;124m\"\u001b[39m, sections)\n\u001b[0;32m     77\u001b[0m \u001b[38;5;66;03m# Define job description for comparison\u001b[39;00m\n",
      "Cell \u001b[1;32mIn[7], line 29\u001b[0m, in \u001b[0;36mextract_resume_sections_with_openai\u001b[1;34m(resume_text)\u001b[0m\n\u001b[0;32m     22\u001b[0m \u001b[38;5;250m\u001b[39m\u001b[38;5;124;03m\"\"\"Uses OpenAI API to extract sections from resume and calculates cost.\"\"\"\u001b[39;00m\n\u001b[0;32m     23\u001b[0m prompt \u001b[38;5;241m=\u001b[39m \u001b[38;5;124mf\u001b[39m\u001b[38;5;124m\"\"\"\u001b[39m\n\u001b[0;32m     24\u001b[0m \u001b[38;5;124mPlease analyze the following resume text and identify distinct sections like \u001b[39m\u001b[38;5;124m'\u001b[39m\u001b[38;5;124mEducation\u001b[39m\u001b[38;5;124m'\u001b[39m\u001b[38;5;124m, \u001b[39m\u001b[38;5;124m'\u001b[39m\u001b[38;5;124mExperience\u001b[39m\u001b[38;5;124m'\u001b[39m\u001b[38;5;124m, \u001b[39m\u001b[38;5;124m'\u001b[39m\u001b[38;5;124mSkills\u001b[39m\u001b[38;5;124m'\u001b[39m\u001b[38;5;124m, etc. Provide a breakdown of the text into these sections, capturing the relevant content for each.\u001b[39m\n\u001b[0;32m     25\u001b[0m \u001b[38;5;124m\u001b[39m\n\u001b[0;32m     26\u001b[0m \u001b[38;5;124mResume text: \u001b[39m\u001b[38;5;132;01m{\u001b[39;00mresume_text\u001b[38;5;132;01m}\u001b[39;00m\n\u001b[0;32m     27\u001b[0m \u001b[38;5;124m\u001b[39m\u001b[38;5;124m\"\"\"\u001b[39m\n\u001b[1;32m---> 29\u001b[0m response \u001b[38;5;241m=\u001b[39m \u001b[43mopenai\u001b[49m\u001b[38;5;241;43m.\u001b[39;49m\u001b[43mCompletion\u001b[49m\u001b[38;5;241;43m.\u001b[39;49m\u001b[43mcreate\u001b[49m\u001b[43m(\u001b[49m\n\u001b[0;32m     30\u001b[0m \u001b[43m    \u001b[49m\u001b[43mengine\u001b[49m\u001b[38;5;241;43m=\u001b[39;49m\u001b[43mMODEL\u001b[49m\u001b[43m,\u001b[49m\n\u001b[0;32m     31\u001b[0m \u001b[43m    \u001b[49m\u001b[43mprompt\u001b[49m\u001b[38;5;241;43m=\u001b[39;49m\u001b[43mprompt\u001b[49m\u001b[43m,\u001b[49m\n\u001b[0;32m     32\u001b[0m \u001b[43m    \u001b[49m\u001b[43mmax_tokens\u001b[49m\u001b[38;5;241;43m=\u001b[39;49m\u001b[38;5;241;43m1500\u001b[39;49m\u001b[43m,\u001b[49m\n\u001b[0;32m     33\u001b[0m \u001b[43m    \u001b[49m\u001b[43mtemperature\u001b[49m\u001b[38;5;241;43m=\u001b[39;49m\u001b[38;5;241;43m0.2\u001b[39;49m\u001b[43m,\u001b[49m\n\u001b[0;32m     34\u001b[0m \u001b[43m\u001b[49m\u001b[43m)\u001b[49m\n\u001b[0;32m     36\u001b[0m \u001b[38;5;66;03m# Get token usage for this request and calculate cost\u001b[39;00m\n\u001b[0;32m     37\u001b[0m tokens_used \u001b[38;5;241m=\u001b[39m response[\u001b[38;5;124m'\u001b[39m\u001b[38;5;124musage\u001b[39m\u001b[38;5;124m'\u001b[39m][\u001b[38;5;124m'\u001b[39m\u001b[38;5;124mtotal_tokens\u001b[39m\u001b[38;5;124m'\u001b[39m]\n",
      "File \u001b[1;32md:\\softwares\\Python3_11\\Lib\\site-packages\\openai\\lib\\_old_api.py:39\u001b[0m, in \u001b[0;36mAPIRemovedInV1Proxy.__call__\u001b[1;34m(self, *_args, **_kwargs)\u001b[0m\n\u001b[0;32m     38\u001b[0m \u001b[38;5;28;01mdef\u001b[39;00m \u001b[38;5;21m__call__\u001b[39m(\u001b[38;5;28mself\u001b[39m, \u001b[38;5;241m*\u001b[39m_args: Any, \u001b[38;5;241m*\u001b[39m\u001b[38;5;241m*\u001b[39m_kwargs: Any) \u001b[38;5;241m-\u001b[39m\u001b[38;5;241m>\u001b[39m Any:\n\u001b[1;32m---> 39\u001b[0m     \u001b[38;5;28;01mraise\u001b[39;00m APIRemovedInV1(symbol\u001b[38;5;241m=\u001b[39m\u001b[38;5;28mself\u001b[39m\u001b[38;5;241m.\u001b[39m_symbol)\n",
      "\u001b[1;31mAPIRemovedInV1\u001b[0m: \n\nYou tried to access openai.Completion, but this is no longer supported in openai>=1.0.0 - see the README at https://github.com/openai/openai-python for the API.\n\nYou can run `openai migrate` to automatically upgrade your codebase to use the 1.0.0 interface. \n\nAlternatively, you can pin your installation to the old version, e.g. `pip install openai==0.28`\n\nA detailed migration guide is available here: https://github.com/openai/openai-python/discussions/742\n"
     ]
    }
   ],
   "source": [
    "# Initialize the OpenAI API with your key\n",
    "openai.api_key = key\n",
    "\n",
    "# Set model and cost per 1,000 tokens for your chosen OpenAI model\n",
    "MODEL = \"text-davinci-003\"\n",
    "COST_PER_1000_TOKENS = 0.02  # $0.02 per 1000 tokens for GPT-4\n",
    "\n",
    "# Function to estimate token cost\n",
    "def calculate_cost(num_tokens):\n",
    "    return (num_tokens / 1000) * COST_PER_1000_TOKENS\n",
    "\n",
    "def read_pdf(file_path):\n",
    "    \"\"\"Reads PDF and extracts text.\"\"\"\n",
    "    with open(file_path, \"rb\") as file:\n",
    "        pdf_reader = PyPDF2.PdfReader(file)\n",
    "        text = \"\"\n",
    "        for page in pdf_reader.pages:\n",
    "            text += page.extract_text()\n",
    "    return text\n",
    "\n",
    "def extract_resume_sections_with_openai(resume_text):\n",
    "    \"\"\"Uses OpenAI API to extract sections from resume and calculates cost.\"\"\"\n",
    "    prompt = f\"\"\"\n",
    "    Please analyze the following resume text and identify distinct sections like 'Education', 'Experience', 'Skills', etc. Provide a breakdown of the text into these sections, capturing the relevant content for each.\n",
    "    \n",
    "    Resume text: {resume_text}\n",
    "    \"\"\"\n",
    "\n",
    "    response = openai.Completion.create(\n",
    "        engine=MODEL,\n",
    "        prompt=prompt,\n",
    "        max_tokens=1500,\n",
    "        temperature=0.2,\n",
    "    )\n",
    "    \n",
    "    # Get token usage for this request and calculate cost\n",
    "    tokens_used = response['usage']['total_tokens']\n",
    "    cost = calculate_cost(tokens_used)\n",
    "    print(f\"Cost for section extraction: ${cost:.4f}\")\n",
    "    \n",
    "    return response.choices[0].text.strip(), cost\n",
    "\n",
    "def compare_resume_with_job_description(resume_text, job_description_text):\n",
    "    \"\"\"Uses OpenAI API to compare resume sections with job description and calculates cost.\"\"\"\n",
    "    prompt = f\"\"\"\n",
    "    I want to compare a candidate's resume with the job description provided. Please analyze the similarity between each section of the resume and the job description.\n",
    "    \n",
    "    Job description: {job_description_text}\n",
    "    \n",
    "    Resume text: {resume_text}\n",
    "    \n",
    "    For each section of the resume (like Education, Experience, Skills), please provide a match score from 0 to 1, with a brief explanation for the score.\n",
    "    \"\"\"\n",
    "\n",
    "    response = openai.Completion.create(\n",
    "        engine=MODEL,\n",
    "        prompt=prompt,\n",
    "        max_tokens=1500,\n",
    "        temperature=0.2,\n",
    "    )\n",
    "    \n",
    "    # Get token usage for this request and calculate cost\n",
    "    tokens_used = response['usage']['total_tokens']\n",
    "    cost = calculate_cost(tokens_used)\n",
    "    print(f\"Cost for job comparison: ${cost:.4f}\")\n",
    "    \n",
    "    return response.choices[0].text.strip(), cost\n",
    "\n",
    "# Main flow\n",
    "resume_path = \"resume.pdf\"\n",
    "resume_text = read_pdf(resume_path)\n",
    "\n",
    "# Extract structured sections using OpenAI and get the cost\n",
    "sections, extraction_cost = extract_resume_sections_with_openai(resume_text)\n",
    "print(\"Extracted Resume Sections:\\n\", sections)\n",
    "\n",
    "# Define job description for comparison\n",
    "job_description_text = \"    Education: BSc in Computer Science or related field, Experience: 3+ years of software development experience, particularly in Python and Django, Skills: Proficiency in Python, Django, and front-end technologies like React, Certifications: Relevant certifications like AWS or Google Cloud Architect\"\n",
    "\n",
    "# Compare sections with job description and get the cost\n",
    "comparison_result, comparison_cost = compare_resume_with_job_description(sections, job_description_text)\n",
    "print(\"Comparison Results:\\n\", comparison_result)\n",
    "\n",
    "# Calculate and print total cost\n",
    "total_cost = extraction_cost + comparison_cost\n",
    "print(f\"Total cost of API usage: ${total_cost:.4f}\")\n"
   ]
  },
  {
   "cell_type": "markdown",
   "metadata": {},
   "source": []
  }
 ],
 "metadata": {
  "kernelspec": {
   "display_name": "Python 3",
   "language": "python",
   "name": "python3"
  },
  "language_info": {
   "codemirror_mode": {
    "name": "ipython",
    "version": 3
   },
   "file_extension": ".py",
   "mimetype": "text/x-python",
   "name": "python",
   "nbconvert_exporter": "python",
   "pygments_lexer": "ipython3",
   "version": "3.11.5"
  }
 },
 "nbformat": 4,
 "nbformat_minor": 2
}
