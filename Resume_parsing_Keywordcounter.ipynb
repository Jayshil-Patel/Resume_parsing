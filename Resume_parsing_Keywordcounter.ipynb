{
 "cells": [
  {
   "cell_type": "code",
   "execution_count": 24,
   "metadata": {},
   "outputs": [],
   "source": [
    "import PyPDF2\n",
    "import re"
   ]
  },
  {
   "cell_type": "code",
   "execution_count": 25,
   "metadata": {},
   "outputs": [],
   "source": [
    "def extract_text_from_pdf(pdf_path):\n",
    "    # Initialize a PDF reader\n",
    "    pdf_reader = PyPDF2.PdfReader(pdf_path)\n",
    "    text = \"\"\n",
    "    \n",
    "    # Extract text from each page of the PDF+\n",
    "    for page in pdf_reader.pages:\n",
    "        text += page.extract_text() or \"\"\n",
    "    \n",
    "    return text.lower()"
   ]
  },
  {
   "cell_type": "code",
   "execution_count": 26,
   "metadata": {},
   "outputs": [],
   "source": [
    "\n",
    "def preprocess_text(text):\n",
    "    # Convert text to lowercase, remove newlines and double spaces\n",
    "    text = text.lower()\n",
    "    text = text.replace('\\n', ' ').replace('  ', ' ')\n",
    "    return text"
   ]
  },
  {
   "cell_type": "code",
   "execution_count": 27,
   "metadata": {},
   "outputs": [],
   "source": [
    "def find_education_level(text):\n",
    "    # Define patterns for different levels of education\n",
    "    patterns = {\n",
    "        'bachelor': r'\\b(bachelor|b\\.s\\.|bsc|b\\.eng|b\\.a\\.)\\b',\n",
    "        'master': r'\\b(master|m\\.s\\.|msc|m\\.eng|m\\.a\\.)\\b',\n",
    "        'doctorate': r'\\b(ph\\.d\\.|doctorate|dphil|doctoral)\\b'\n",
    "    }\n",
    "    \n",
    "    education_level = None\n",
    "    \n",
    "    # Check for each level in order of hierarchy\n",
    "    if re.search(patterns['doctorate'], text):\n",
    "        education_level = \"Doctorate\"\n",
    "    elif re.search(patterns['master'], text):\n",
    "        education_level = \"Master's\"\n",
    "    elif re.search(patterns['bachelor'], text):\n",
    "        education_level = \"Bachelor's\"\n",
    "    else:\n",
    "        education_level = \"No Bachelor's Degree\"\n",
    "    \n",
    "    return education_level"
   ]
  },
  {
   "cell_type": "code",
   "execution_count": 28,
   "metadata": {},
   "outputs": [],
   "source": [
    "def extract_keywords(text, keywords):\n",
    "    keyword_counts = {}\n",
    "    \n",
    "    for keyword in keywords:\n",
    "        # Escape keyword to avoid issues with special characters in regex\n",
    "        pattern = re.escape(keyword.lower())\n",
    "        \n",
    "        # Count occurrences of the keyword or phrase in the text\n",
    "        count = len(re.findall(rf'\\b{pattern}\\b', text))\n",
    "        keyword_counts[keyword] = count\n",
    "    \n",
    "    return keyword_counts"
   ]
  },
  {
   "cell_type": "code",
   "execution_count": 29,
   "metadata": {},
   "outputs": [
    {
     "name": "stdout",
     "output_type": "stream",
     "text": [
      "Keyword counts: {'python': 5, 'data': 22, 'data structures': 0, 'machine learning': 4, 'data analysis': 2, 'neural networks': 2}\n"
     ]
    }
   ],
   "source": [
    "# Specify the PDF file path\n",
    "pdf_path = \"resume_juanjosecarin.pdf\"\n",
    "\n",
    "# Extract text from PDF and preprocess it\n",
    "raw_text = extract_text_from_pdf(pdf_path)\n",
    "processed_text = preprocess_text(raw_text)\n",
    "\n",
    "# Define keywords to look for, including multi-word phrases\n",
    "keywords = ['python', 'data', 'data structures', 'machine learning', 'data analysis', 'neural networks']\n",
    "\n",
    "# Extract and display keyword counts\n",
    "keyword_counts = extract_keywords(processed_text, keywords)\n",
    "print(\"Keyword counts:\", keyword_counts)\n"
   ]
  },
  {
   "cell_type": "code",
   "execution_count": 30,
   "metadata": {},
   "outputs": [],
   "source": [
    "education_level=find_education_level(processed_text)"
   ]
  },
  {
   "cell_type": "code",
   "execution_count": 31,
   "metadata": {},
   "outputs": [
    {
     "name": "stdout",
     "output_type": "stream",
     "text": [
      "Master's\n"
     ]
    }
   ],
   "source": [
    "print(education_level)"
   ]
  },
  {
   "cell_type": "code",
   "execution_count": 32,
   "metadata": {},
   "outputs": [
    {
     "name": "stdout",
     "output_type": "stream",
     "text": [
      "Candidate does not meet the minimum education requirement.\n"
     ]
    }
   ],
   "source": [
    "# Define the hierarchy for education levels\n",
    "education_hierarchy = {\n",
    "    \"No Bachelor's Degree\": 0,\n",
    "    \"Bachelor's\": 1,\n",
    "    \"Master's\": 2,\n",
    "    \"doctorate\": 3\n",
    "}\n",
    "\n",
    "# Example input\n",
    "required_education = \"doctorate\"\n",
    "\n",
    "# Check if the candidate meets or exceeds the minimum requirement\n",
    "if education_hierarchy.get(education_level, -1) < education_hierarchy.get(required_education, -1):\n",
    "    print(\"Candidate does not meet the minimum education requirement.\")\n",
    "elif education_hierarchy[education_level] == education_hierarchy[required_education]:\n",
    "    print(\"Candidate meets the minimum requirement.\")\n",
    "else:\n",
    "    print(\"Candidate exceeds the minimum education requirement with a higher degree.\")\n"
   ]
  }
 ],
 "metadata": {
  "kernelspec": {
   "display_name": "Python 3",
   "language": "python",
   "name": "python3"
  },
  "language_info": {
   "codemirror_mode": {
    "name": "ipython",
    "version": 3
   },
   "file_extension": ".py",
   "mimetype": "text/x-python",
   "name": "python",
   "nbconvert_exporter": "python",
   "pygments_lexer": "ipython3",
   "version": "3.11.5"
  }
 },
 "nbformat": 4,
 "nbformat_minor": 2
}
