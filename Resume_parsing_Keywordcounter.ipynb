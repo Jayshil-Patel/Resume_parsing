{
 "cells": [
  {
   "cell_type": "code",
   "execution_count": 28,
   "metadata": {},
   "outputs": [
    {
     "name": "stdout",
     "output_type": "stream",
     "text": [
      "Keyword counts: {'python': 5, 'java': 0, 'data structures': 0, 'machine learning': 4, 'data analysis': 2, 'dsa': 0}\n"
     ]
    }
   ],
   "source": [
    "import PyPDF2\n",
    "import re\n",
    "from collections import Counter\n",
    "\n",
    "def extract_text_from_pdf(pdf_path):\n",
    "    # Initialize a PDF reader\n",
    "    pdf_reader = PyPDF2.PdfReader(pdf_path)\n",
    "    text = \"\"\n",
    "    \n",
    "    # Extract text from each page of the PDF\n",
    "    for page in pdf_reader.pages:\n",
    "        text += page.extract_text() or \"\"\n",
    "    \n",
    "    return text\n",
    "\n",
    "def preprocess_text(text):\n",
    "    # Convert text to lowercase, remove newlines and double spaces\n",
    "    text = text.lower()\n",
    "    text = text.replace('\\n', ' ').replace('  ', ' ')\n",
    "    return text\n",
    "\n",
    "def extract_keywords(text, keywords):\n",
    "    keyword_counts = {}\n",
    "    \n",
    "    for keyword in keywords:\n",
    "        # Escape keyword to avoid issues with special characters in regex\n",
    "        pattern = re.escape(keyword.lower())\n",
    "        \n",
    "        # Count occurrences of the keyword or phrase in the text\n",
    "        count = len(re.findall(rf'\\b{pattern}\\b', text))\n",
    "        keyword_counts[keyword] = count\n",
    "    \n",
    "    return keyword_counts\n",
    "\n",
    "# Specify the PDF file path\n",
    "pdf_path = \"resume_juanjosecarin.pdf\"\n",
    "\n",
    "# Extract text from PDF and preprocess it\n",
    "raw_text = extract_text_from_pdf(pdf_path)\n",
    "processed_text = preprocess_text(raw_text)\n",
    "\n",
    "# Define keywords to look for, including multi-word phrases\n",
    "keywords = ['python', 'java', 'data structures', 'machine learning', 'data analysis', 'dsa']\n",
    "\n",
    "# Extract and display keyword counts\n",
    "keyword_counts = extract_keywords(processed_text, keywords)\n",
    "print(\"Keyword counts:\", keyword_counts)\n"
   ]
  }
 ],
 "metadata": {
  "kernelspec": {
   "display_name": "Python 3",
   "language": "python",
   "name": "python3"
  },
  "language_info": {
   "codemirror_mode": {
    "name": "ipython",
    "version": 3
   },
   "file_extension": ".py",
   "mimetype": "text/x-python",
   "name": "python",
   "nbconvert_exporter": "python",
   "pygments_lexer": "ipython3",
   "version": "3.11.5"
  }
 },
 "nbformat": 4,
 "nbformat_minor": 2
}
