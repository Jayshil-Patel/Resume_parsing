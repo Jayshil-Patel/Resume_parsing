{
 "cells": [
  {
   "cell_type": "code",
   "execution_count": 1,
   "metadata": {},
   "outputs": [],
   "source": [
    "import PyPDF2\n",
    "import re"
   ]
  },
  {
   "cell_type": "code",
   "execution_count": 2,
   "metadata": {},
   "outputs": [],
   "source": [
    "def extract_text_from_pdf(pdf_path):\n",
    "    # Initialize a PDF reader\n",
    "    pdf_reader = PyPDF2.PdfReader(pdf_path)\n",
    "    text = \"\"\n",
    "    \n",
    "    # Extract text from each page of the PDF\n",
    "    for page in pdf_reader.pages:\n",
    "        text += page.extract_text() or \"\"\n",
    "    \n",
    "    return text.lower()"
   ]
  },
  {
   "cell_type": "code",
   "execution_count": 3,
   "metadata": {},
   "outputs": [],
   "source": [
    "\n",
    "def preprocess_text(text):\n",
    "    # Convert text to lowercase, remove newlines and double spaces\n",
    "    text = text.lower()\n",
    "    text = text.replace('\\n', ' ').replace('  ', ' ')\n",
    "    return text"
   ]
  },
  {
   "cell_type": "code",
   "execution_count": 4,
   "metadata": {},
   "outputs": [],
   "source": [
    "def find_education_level(text):\n",
    "    # Define patterns for different levels of education\n",
    "    patterns = {\n",
    "        'bachelor': r'\\b(bachelor|b\\.s\\.|bsc|b\\.eng|b\\.a\\.)\\b',\n",
    "        'master': r'\\b(master|m\\.s\\.|msc|m\\.eng|m\\.a\\.)\\b',\n",
    "        'doctorate': r'\\b(ph\\.d\\.|doctorate|dphil|doctoral)\\b'\n",
    "    }\n",
    "    \n",
    "    education_level = None\n",
    "    \n",
    "    # Check for each level in order of hierarchy\n",
    "    if re.search(patterns['doctorate'], text):\n",
    "        education_level = \"Doctorate\"\n",
    "    elif re.search(patterns['master'], text):\n",
    "        education_level = \"Master's\"\n",
    "    elif re.search(patterns['bachelor'], text):\n",
    "        education_level = \"Bachelor's\"\n",
    "    else:\n",
    "        education_level = \"No Bachelor's Degree\"\n",
    "    \n",
    "    return education_level"
   ]
  },
  {
   "cell_type": "code",
   "execution_count": 5,
   "metadata": {},
   "outputs": [],
   "source": [
    "def extract_keywords(text, keywords):\n",
    "    keyword_counts = {}\n",
    "    \n",
    "    for keyword in keywords:\n",
    "        # Escape keyword to avoid issues with special characters in regex\n",
    "        pattern = re.escape(keyword.lower())\n",
    "        \n",
    "        # Count occurrences of the keyword or phrase in the text\n",
    "        count = len(re.findall(rf'\\b{pattern}\\b', text))\n",
    "        keyword_counts[keyword] = count\n",
    "    \n",
    "    return keyword_counts"
   ]
  },
  {
   "cell_type": "code",
   "execution_count": 6,
   "metadata": {},
   "outputs": [
    {
     "name": "stdout",
     "output_type": "stream",
     "text": [
      "Keyword counts: {'python': 5, 'java': 0, 'data structures': 0, 'machine learning': 4, 'data analysis': 2, 'neural networks': 2}\n"
     ]
    }
   ],
   "source": [
    "# Specify the PDF file path\n",
    "pdf_path = \"resume_juanjosecarin.pdf\"\n",
    "\n",
    "# Extract text from PDF and preprocess it\n",
    "raw_text = extract_text_from_pdf(pdf_path)\n",
    "processed_text = preprocess_text(raw_text)\n",
    "\n",
    "# Define keywords to look for, including multi-word phrases\n",
    "keywords = ['python', 'java', 'data structures', 'machine learning', 'data analysis', 'neural networks']\n",
    "\n",
    "# Extract and display keyword counts\n",
    "keyword_counts = extract_keywords(processed_text, keywords)\n",
    "print(\"Keyword counts:\", keyword_counts)\n"
   ]
  },
  {
   "cell_type": "code",
   "execution_count": 9,
   "metadata": {},
   "outputs": [],
   "source": [
    "education_level=find_education_level(processed_text)"
   ]
  },
  {
   "cell_type": "code",
   "execution_count": 11,
   "metadata": {},
   "outputs": [
    {
     "name": "stdout",
     "output_type": "stream",
     "text": [
      "Master's\n"
     ]
    }
   ],
   "source": [
    "print(education_level)"
   ]
  },
  {
   "cell_type": "code",
   "execution_count": 10,
   "metadata": {},
   "outputs": [
    {
     "name": "stdout",
     "output_type": "stream",
     "text": [
      "Candidate exceeds the minimum education requirement with a higher degree.\n"
     ]
    }
   ],
   "source": [
    "# Filtering based on minimum requirement\n",
    "required_education = \"Bachelor's\"\n",
    "if education_level == \"No Bachelor's Degree\":\n",
    "    print(\"Candidate does not meet the minimum education requirement.\")\n",
    "elif education_level == \"Bachelor's\":\n",
    "    print(\"Candidate meets the minimum requirement.\")\n",
    "else:\n",
    "    print(\"Candidate exceeds the minimum education requirement with a higher degree.\")"
   ]
  }
 ],
 "metadata": {
  "kernelspec": {
   "display_name": "Python 3",
   "language": "python",
   "name": "python3"
  },
  "language_info": {
   "codemirror_mode": {
    "name": "ipython",
    "version": 3
   },
   "file_extension": ".py",
   "mimetype": "text/x-python",
   "name": "python",
   "nbconvert_exporter": "python",
   "pygments_lexer": "ipython3",
   "version": "3.11.5"
  }
 },
 "nbformat": 4,
 "nbformat_minor": 2
}
