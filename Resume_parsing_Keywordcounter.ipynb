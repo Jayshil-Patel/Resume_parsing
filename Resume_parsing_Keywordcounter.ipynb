{
 "cells": [
  {
   "cell_type": "code",
   "execution_count": 5,
   "metadata": {},
   "outputs": [],
   "source": [
    "# Function to extract text from PDF\n",
    "import PyPDF2\n",
    "def extract_text_from_pdf(pdf_path):\n",
    "    text = \"\"\n",
    "    with open(pdf_path, \"rb\") as file:\n",
    "        pdf_reader = PyPDF2.PdfReader(file)\n",
    "        for page in pdf_reader.pages:\n",
    "            text += page.extract_text()\n",
    "    return text.lower()"
   ]
  },
  {
   "cell_type": "code",
   "execution_count": 12,
   "metadata": {},
   "outputs": [],
   "source": [
    "text = extract_text_from_pdf('resume_juanjosecarin.pdf')"
   ]
  },
  {
   "cell_type": "code",
   "execution_count": 13,
   "metadata": {},
   "outputs": [
    {
     "data": {
      "text/plain": [
       "str"
      ]
     },
     "execution_count": 13,
     "metadata": {},
     "output_type": "execute_result"
    }
   ],
   "source": [
    "type(text)"
   ]
  },
  {
   "cell_type": "code",
   "execution_count": 14,
   "metadata": {},
   "outputs": [
    {
     "name": "stdout",
     "output_type": "stream",
     "text": [
      "1 of 2 juan jose carin  \n",
      "data scientist   \n",
      "mountain view , ca 94041  \n",
      " 650-336-4590  | juanjose.carin@gmail.com  \n",
      " linkedin.com/in/juanjosecarin  | juanjocarin.github.io  \n",
      " \n",
      "professional  profile  \n",
      "passionate abo ut data analysis and experiments, mainly focused on user  behavior, experience , and engagement , with a solid \n",
      "background in data science and statistics, and extensive experience using data insights to drive business growth.  \n",
      "education\n",
      "2016  university  of california,  berkeley  master  of information  and data  science  gpa:  3.93\n",
      " \n",
      " \n",
      " relevant  courses : \n",
      "• machine  learning  \n",
      "• machine  learning  at scale  \n",
      "• storing  and retrieving  data  • field  experiments  \n",
      "• applied  regression  and time  series  \n",
      "analysis  \n",
      "• exploring  and analyzing  data  • data  visualization  and \n",
      "communication  \n",
      "• research  design  and applications  for \n",
      "data  analysis  \n",
      "2014 universidad  politécnica  de madrid  m.s.  in statistical  and computational  information  processing  gpa:  3.69\n",
      " \n",
      " \n",
      " relevant  courses :  \n",
      "• data  mining  \n",
      "• multivariate  analysis  \n",
      "• time  series  • neural  networks  and statistical  \n",
      "learning  \n",
      "• regression  and prediction  methods  \n",
      "• optimization  techniques  • monte  carlo  techniques  \n",
      "• numerical  methods  in finance  \n",
      "• stochastic  models  in finance  \n",
      "• bayesian  networks\n",
      "2005  universidad  politécnica  de madrid  m.s.  in telecommunication  engineering  gpa:  3.03\n",
      "focus  area:  radio  communication  systems  (radar  and mobile).  \n",
      "fellowship:  first  year  at university,  due to honors  obtained  last year  at high  school.  \n",
      "skills  \n",
      " programming  / statistics  big data  visual ization  others  \n",
      "proficient:  r, python , sql hadoop , hive , mrjob  tableau  git, aws  \n",
      "intermediate:  spss , sas, matlab  spark , storm   bash  \n",
      "basic:  eviews , demetra+   d3.js gephi , neo4j , qgis  \n",
      "experience  \n",
      "data science  \n",
      "jan. 2016  – mar.  2016 data  scientist  \n",
      " conento   madrid,  spain  (working  remotely)  \n",
      "• designed  and implemented  the etl pipeline  for a predictive  model  of traffic  on the main  roads  in \n",
      "eastern  spain  (a project  for the spanish  government) . \n",
      "• automated  scripts  in r to extract,  transform,  clean  (incl. anomaly  detection),  and load  into mysql  \n",
      "data  from  multiple  data  sources : road  traffic  sensors,  accidents , road  works,  weather .\n",
      "jun. 2014  – sep.  2014  data  scientist   \n",
      " conento  madrid,  spain  \n",
      "• designed  an experiment  for google  spain  (conducted  in october  2014)  to measure  the impact  of \n",
      "youtube  ads on the sales  of a car manufacturer 's dealer  network.  \n",
      "• a matched -pair,  cluster -randomized  design , which  involved  selecting  the test and control  groups  \n",
      "from  a sample  of 50+ cities  in spain  (where  geo-targeted  ads were  possible)  based  on their  sales -\n",
      "wise  similarity  over  time,  using  wavelets  (and  r). \n",
      "managem ent – sales  (electri cal eng. ) \n",
      "feb. 2009 – aug. 2013 head  of sales,  spain  & portugal  – test &measurement  dept.\n",
      " yokogawa  madrid,  spain  \n",
      "• applied  analysis  of sales  and market  trends  to decide  the direction  of the department.  \n",
      "• led a team  of 7 people .   \n",
      "2 of 2 juan jose carin  \n",
      "data scientist   \n",
      "mountain view , ca 94041  \n",
      " 650-336-4590  | juanjose.carin@gmail.com  \n",
      " linkedin.com/in/juanjosecarin  | juanjocarin.github.io  \n",
      " \n",
      "• increased  revenue  by 6.3%,  gross  profit  by 4.2%,  and operating  income  by 146%,  and achieved  a 30%  \n",
      "ratio  of new  customers  (3x growth),  by entering  new  markets  and improvi ng customer  service  and \n",
      "training .\n",
      "sales (electri cal eng.  & telecom. ) \n",
      "apr. 2008 – jan. 2009 sales  engineer  – test  & meas urement  dept. \n",
      " yokogawa  madrid,  spain  \n",
      "• promoted  to head  of sales  after  5 months  leading  the sales  team.  \n",
      "sep. 2004 – mar. 2008 sales  & application  engineer  \n",
      " ayscom  madrid,  spain  \n",
      "• exceeded  sales  target  every  year  from  2005  to 2007  (achieved  60%  of the target  in the first 3 months  \n",
      "of 2008 ). \n",
      "education\n",
      "jul. 2002 – jun. 2004 tutor  of differential  & integral  calculus,  physics,  and digital  electronic  circuits\n",
      " academia  universitaria  madrid,  spain  \n",
      "• highest -rated  professor  in student  surveys,  in 4 of the 6 terms.  \n",
      "• increased  ratio of stud ents passing the course by 25%.  \n",
      "projects   see juanjocarin.github.io  for additional  information\n",
      "2016  smartcam  \n",
      "capstone  python , opencv , tensorflow , aws  (ec2, s3, dynamodb ) \n",
      "a scalable  cloud -based  video  monitoring  system  that features  motion  detection,  face  counting,  and image  recognition.\n",
      "2015  implementation  of the shortest  path  and pagerank  algorithms  with  the wikipedia  graph  dataset  \n",
      "machine  learning  at scale  hadoop  mrjob,  python , aws  ec2, aws  s3\n",
      "using  a graph  dataset  of almost  half a million  nodes.  \n",
      "2015  forest  cover  type  prediction  \n",
      "machine  learning  python , scikit -learn , matplotlib  \n",
      "a kaggle  competition : predictions  of the predominant  kind  of tree cover,  from  strictly  cartographic  variables  such  as elevation  \n",
      "and soil type,  using  random  forests,  svms,  knns,  naive bayes,  gradient  descent,  gmms , …\n",
      "2015  redefining  the job search  process  \n",
      "storing  and retrieving  data  hadoop  hdfs , hive , spark , python , aws  ec2, tableau\n",
      "a pipeline  that combines  data  from  indeed  api and the u.s. census  bureau  to select  the best  locations  for data  scientists  \n",
      "based  on the number  of job postings,  housing  cost,  etc.\n",
      "2015  a fresh  perspective  on citi bike  \n",
      "data  visualization  and communication  tableau , sqlite\n",
      "an interactive  website  to visualize  nyc citi bike  bicycle sharing  service.\n",
      "2015  investigating  the effect  of competition  on the ability  to solve  arithmetic  problems  \n",
      "field  experiments  r \n",
      "a randomized  controlled  trial in which  300+  participants  were  assigned  to a control  group  or one of two test groups  to \n",
      "evaluate  the effect  of competition  (being  compared  to no one or someone  better  or worse).  \n",
      "2014  prediction  of customer  churn  for a mobile  network  carrier  \n",
      "data  mining  sas\n",
      "predictions  from  a sample  of 45,000+  customers,  using  tree decisions,  logistic  regression , and neural  networks.  \n",
      "2014  different  models  of harmonized  index  of consumer  prices  (hicp)  in spain  \n",
      "time  series  spss , demetra+\n",
      "forecasts  based  on exponential  smoothing,  arima,  and transfer  function  (using  petrol  price  as independent  variable)  models.  \n"
     ]
    }
   ],
   "source": [
    "print(text)"
   ]
  },
  {
   "cell_type": "code",
   "execution_count": 18,
   "metadata": {},
   "outputs": [
    {
     "name": "stderr",
     "output_type": "stream",
     "text": [
      "[nltk_data] Downloading package punkt to\n",
      "[nltk_data]     C:\\Users\\jaysh\\AppData\\Roaming\\nltk_data...\n",
      "[nltk_data]   Package punkt is already up-to-date!\n",
      "[nltk_data] Downloading package stopwords to\n",
      "[nltk_data]     C:\\Users\\jaysh\\AppData\\Roaming\\nltk_data...\n",
      "[nltk_data]   Package stopwords is already up-to-date!\n"
     ]
    },
    {
     "name": "stdout",
     "output_type": "stream",
     "text": [
      "Keyword counts: {'Data Analysis': 0, 'Python': 5, 'Field Experiments': 0}\n"
     ]
    }
   ],
   "source": [
    "import nltk\n",
    "from collections import Counter\n",
    "from nltk.tokenize import word_tokenize\n",
    "from nltk.corpus import stopwords\n",
    "import string\n",
    "\n",
    "# Download NLTK data files (if not already downloaded)\n",
    "nltk.download('punkt')\n",
    "nltk.download('stopwords')\n",
    "\n",
    "def extract_keywords(resume_text, keywords):\n",
    "    # Tokenize the resume text\n",
    "    tokens = word_tokenize(resume_text.lower())\n",
    "    \n",
    "    # Remove punctuation and stop words\n",
    "    tokens = [word for word in tokens if word not in string.punctuation]\n",
    "    tokens = [word for word in tokens if word not in stopwords.words('english')]\n",
    "    \n",
    "    # Count occurrences of each keyword\n",
    "    keyword_counts = Counter(tokens)\n",
    "    \n",
    "    # Filter counts for the specific keywords we are interested in\n",
    "    keyword_summary = {key: keyword_counts[key.lower()] for key in keywords}\n",
    "    \n",
    "    return keyword_summary\n",
    "\n",
    "# Example resume text\n",
    "resume_text = extract_text_from_pdf('resume_juanjosecarin.pdf')\n",
    "\n",
    "\n",
    "# Define keywords to look for\n",
    "keywords = ['Data Analysis','Python','Field Experiments']\n",
    "\n",
    "# Extract and display keyword counts\n",
    "keyword_counts = extract_keywords(resume_text, keywords)\n",
    "print(\"Keyword counts:\", keyword_counts)\n"
   ]
  },
  {
   "cell_type": "code",
   "execution_count": 8,
   "metadata": {},
   "outputs": [
    {
     "data": {
      "text/plain": [
       "\"1 of 2 juan jose carin  \\ndata scientist   \\nmountain view , ca 94041  \\n 650-336-4590  | juanjose.carin@gmail.com  \\n linkedin.com/in/juanjosecarin  | juanjocarin.github.io  \\n \\nprofessional  profile  \\npassionate abo ut data analysis and experiments, mainly focused on user  behavior, experience , and engagement , with a solid \\nbackground in data science and statistics, and extensive experience using data insights to drive business growth.  \\neducation\\n2016  university  of california,  berkeley  master  of information  and data  science  gpa:  3.93\\n \\n \\n relevant  courses : \\n• machine  learning  \\n• machine  learning  at scale  \\n• storing  and retrieving  data  • field  experiments  \\n• applied  regression  and time  series  \\nanalysis  \\n• exploring  and analyzing  data  • data  visualization  and \\ncommunication  \\n• research  design  and applications  for \\ndata  analysis  \\n2014 universidad  politécnica  de madrid  m.s.  in statistical  and computational  information  processing  gpa:  3.69\\n \\n \\n relevant  courses :  \\n• data  mining  \\n• multivariate  analysis  \\n• time  series  • neural  networks  and statistical  \\nlearning  \\n• regression  and prediction  methods  \\n• optimization  techniques  • monte  carlo  techniques  \\n• numerical  methods  in finance  \\n• stochastic  models  in finance  \\n• bayesian  networks\\n2005  universidad  politécnica  de madrid  m.s.  in telecommunication  engineering  gpa:  3.03\\nfocus  area:  radio  communication  systems  (radar  and mobile).  \\nfellowship:  first  year  at university,  due to honors  obtained  last year  at high  school.  \\nskills  \\n programming  / statistics  big data  visual ization  others  \\nproficient:  r, python , sql hadoop , hive , mrjob  tableau  git, aws  \\nintermediate:  spss , sas, matlab  spark , storm   bash  \\nbasic:  eviews , demetra+   d3.js gephi , neo4j , qgis  \\nexperience  \\ndata science  \\njan. 2016  – mar.  2016 data  scientist  \\n conento   madrid,  spain  (working  remotely)  \\n• designed  and implemented  the etl pipeline  for a predictive  model  of traffic  on the main  roads  in \\neastern  spain  (a project  for the spanish  government) . \\n• automated  scripts  in r to extract,  transform,  clean  (incl. anomaly  detection),  and load  into mysql  \\ndata  from  multiple  data  sources : road  traffic  sensors,  accidents , road  works,  weather .\\njun. 2014  – sep.  2014  data  scientist   \\n conento  madrid,  spain  \\n• designed  an experiment  for google  spain  (conducted  in october  2014)  to measure  the impact  of \\nyoutube  ads on the sales  of a car manufacturer 's dealer  network.  \\n• a matched -pair,  cluster -randomized  design , which  involved  selecting  the test and control  groups  \\nfrom  a sample  of 50+ cities  in spain  (where  geo-targeted  ads were  possible)  based  on their  sales -\\nwise  similarity  over  time,  using  wavelets  (and  r). \\nmanagem ent – sales  (electri cal eng. ) \\nfeb. 2009 – aug. 2013 head  of sales,  spain  & portugal  – test &measurement  dept.\\n yokogawa  madrid,  spain  \\n• applied  analysis  of sales  and market  trends  to decide  the direction  of the department.  \\n• led a team  of 7 people .   \\n2 of 2 juan jose carin  \\ndata scientist   \\nmountain view , ca 94041  \\n 650-336-4590  | juanjose.carin@gmail.com  \\n linkedin.com/in/juanjosecarin  | juanjocarin.github.io  \\n \\n• increased  revenue  by 6.3%,  gross  profit  by 4.2%,  and operating  income  by 146%,  and achieved  a 30%  \\nratio  of new  customers  (3x growth),  by entering  new  markets  and improvi ng customer  service  and \\ntraining .\\nsales (electri cal eng.  & telecom. ) \\napr. 2008 – jan. 2009 sales  engineer  – test  & meas urement  dept. \\n yokogawa  madrid,  spain  \\n• promoted  to head  of sales  after  5 months  leading  the sales  team.  \\nsep. 2004 – mar. 2008 sales  & application  engineer  \\n ayscom  madrid,  spain  \\n• exceeded  sales  target  every  year  from  2005  to 2007  (achieved  60%  of the target  in the first 3 months  \\nof 2008 ). \\neducation\\njul. 2002 – jun. 2004 tutor  of differential  & integral  calculus,  physics,  and digital  electronic  circuits\\n academia  universitaria  madrid,  spain  \\n• highest -rated  professor  in student  surveys,  in 4 of the 6 terms.  \\n• increased  ratio of stud ents passing the course by 25%.  \\nprojects   see juanjocarin.github.io  for additional  information\\n2016  smartcam  \\ncapstone  python , opencv , tensorflow , aws  (ec2, s3, dynamodb ) \\na scalable  cloud -based  video  monitoring  system  that features  motion  detection,  face  counting,  and image  recognition.\\n2015  implementation  of the shortest  path  and pagerank  algorithms  with  the wikipedia  graph  dataset  \\nmachine  learning  at scale  hadoop  mrjob,  python , aws  ec2, aws  s3\\nusing  a graph  dataset  of almost  half a million  nodes.  \\n2015  forest  cover  type  prediction  \\nmachine  learning  python , scikit -learn , matplotlib  \\na kaggle  competition : predictions  of the predominant  kind  of tree cover,  from  strictly  cartographic  variables  such  as elevation  \\nand soil type,  using  random  forests,  svms,  knns,  naive bayes,  gradient  descent,  gmms , …\\n2015  redefining  the job search  process  \\nstoring  and retrieving  data  hadoop  hdfs , hive , spark , python , aws  ec2, tableau\\na pipeline  that combines  data  from  indeed  api and the u.s. census  bureau  to select  the best  locations  for data  scientists  \\nbased  on the number  of job postings,  housing  cost,  etc.\\n2015  a fresh  perspective  on citi bike  \\ndata  visualization  and communication  tableau , sqlite\\nan interactive  website  to visualize  nyc citi bike  bicycle sharing  service.\\n2015  investigating  the effect  of competition  on the ability  to solve  arithmetic  problems  \\nfield  experiments  r \\na randomized  controlled  trial in which  300+  participants  were  assigned  to a control  group  or one of two test groups  to \\nevaluate  the effect  of competition  (being  compared  to no one or someone  better  or worse).  \\n2014  prediction  of customer  churn  for a mobile  network  carrier  \\ndata  mining  sas\\npredictions  from  a sample  of 45,000+  customers,  using  tree decisions,  logistic  regression , and neural  networks.  \\n2014  different  models  of harmonized  index  of consumer  prices  (hicp)  in spain  \\ntime  series  spss , demetra+\\nforecasts  based  on exponential  smoothing,  arima,  and transfer  function  (using  petrol  price  as independent  variable)  models.  \""
      ]
     },
     "execution_count": 8,
     "metadata": {},
     "output_type": "execute_result"
    }
   ],
   "source": [
    "resume_text"
   ]
  }
 ],
 "metadata": {
  "kernelspec": {
   "display_name": "Python 3",
   "language": "python",
   "name": "python3"
  },
  "language_info": {
   "codemirror_mode": {
    "name": "ipython",
    "version": 3
   },
   "file_extension": ".py",
   "mimetype": "text/x-python",
   "name": "python",
   "nbconvert_exporter": "python",
   "pygments_lexer": "ipython3",
   "version": "3.11.5"
  }
 },
 "nbformat": 4,
 "nbformat_minor": 2
}
