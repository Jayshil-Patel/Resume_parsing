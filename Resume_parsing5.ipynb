{
 "cells": [
  {
   "cell_type": "code",
   "execution_count": 29,
   "metadata": {},
   "outputs": [],
   "source": [
    "import openai\n",
    "import PyPDF2\n",
    "import nltk\n",
    "from nltk.tokenize import sent_tokenize"
   ]
  },
  {
   "cell_type": "code",
   "execution_count": 30,
   "metadata": {},
   "outputs": [
    {
     "name": "stderr",
     "output_type": "stream",
     "text": [
      "[nltk_data] Downloading package punkt_tab to\n",
      "[nltk_data]     C:\\Users\\jaysh\\AppData\\Roaming\\nltk_data...\n",
      "[nltk_data]   Package punkt_tab is already up-to-date!\n"
     ]
    },
    {
     "data": {
      "text/plain": [
       "True"
      ]
     },
     "execution_count": 30,
     "metadata": {},
     "output_type": "execute_result"
    }
   ],
   "source": [
    "nltk.download('punkt_tab')"
   ]
  },
  {
   "cell_type": "code",
   "execution_count": 31,
   "metadata": {},
   "outputs": [],
   "source": [
    "from key import key\n",
    "openai.api_key = key"
   ]
  },
  {
   "cell_type": "code",
   "execution_count": 32,
   "metadata": {},
   "outputs": [],
   "source": [
    "\n",
    "\n",
    "# Initialize OpenAI API Key\n",
    "\n",
    "\n",
    "# Function to extract text from PDF\n",
    "def extract_text_from_pdf(pdf_path):\n",
    "    text = \"\"\n",
    "    with open(pdf_path, \"rb\") as file:\n",
    "        pdf_reader = PyPDF2.PdfReader(file)\n",
    "        for page in pdf_reader.pages:\n",
    "            text += page.extract_text()\n",
    "    return text\n",
    "\n",
    "# Function to split text into sections (e.g., education, experience, skills)\n",
    "def split_into_sections(text):\n",
    "    sections = {}\n",
    "    sentences = sent_tokenize(text)\n",
    "    current_section = \"General\"\n",
    "    sections[current_section] = []\n",
    "\n",
    "    for sentence in sentences:\n",
    "        # Simple heuristics for sectioning\n",
    "        if any(keyword in sentence.lower() for keyword in [\"education\", \"experience\", \"skills\"]):\n",
    "            current_section = sentence.strip()\n",
    "            sections[current_section] = []\n",
    "        else:\n",
    "            sections[current_section].append(sentence)\n",
    "\n",
    "    for section, content in sections.items():\n",
    "        sections[section] = \" \".join(content)\n",
    "    \n",
    "    return sections\n",
    "\n",
    "# Function to get a comparison score from OpenAI API\n",
    "def compare_resume_with_job_description(resume_text, job_description):\n",
    "    prompt = (\n",
    "        \"Given the following resume text and job description, \"\n",
    "        \"rate how well the resume matches the job on a scale from 0 to 100, with 100 being a perfect match. \"\n",
    "        \"Also, provide a brief explanation for the score:\\n\\n\"\n",
    "        f\"Resume:\\n{resume_text}\\n\\n\"\n",
    "        f\"Job Description:\\n{job_description}\\n\\n\"\n",
    "        \"Score and explanation:\"\n",
    "    )\n",
    "\n",
    "    response = openai.Completion.create(\n",
    "        model=\"gpt-3.5-turbo-instruct\",\n",
    "        prompt=prompt,\n",
    "        max_tokens=100,\n",
    "        temperature=0.5\n",
    "    )\n",
    "\n",
    "    return response.choices[0].text.strip()\n",
    "\n",
    "\n"
   ]
  },
  {
   "cell_type": "code",
   "execution_count": 34,
   "metadata": {},
   "outputs": [
    {
     "name": "stdout",
     "output_type": "stream",
     "text": [
      "Comparison Result:\n",
      "95/100\n",
      "\n",
      "Explanation: This resume is a strong match for the job description, as it highlights the candidate's relevant education, experience, and skills. The candidate's proficiency in Python and Django, as well as their experience in front-end technologies like React, align well with the job requirements. The certifications in AWS and Google Cloud also demonstrate the candidate's expertise in cloud platforms, which is mentioned in the job description. The only potential area for improvement is the lack of mention of specific databases like\n"
     ]
    }
   ],
   "source": [
    "# Example usage:\n",
    "resume_pdf_path = \"resume.pdf\"\n",
    "job_description = \"Education: BSc in Computer Science or related field, Experience: 3+ years of software development experience, particularly in Python and Django, Skills: Proficiency in Python, Django, and front-end technologies like React, Certifications: Relevant certifications like AWS or Google Cloud Architect\"\n",
    "\n",
    "# Extract and split resume into sections\n",
    "resume_text = extract_text_from_pdf(resume_pdf_path)\n",
    "resume_sections = split_into_sections(resume_text)\n",
    "\n",
    "# For simplicity, we'll compare the entire resume text with the job description\n",
    "comparison_result = compare_resume_with_job_description(resume_text, job_description)\n",
    "\n",
    "print(\"Comparison Result:\")\n",
    "print(comparison_result)"
   ]
  }
 ],
 "metadata": {
  "kernelspec": {
   "display_name": "Python 3",
   "language": "python",
   "name": "python3"
  },
  "language_info": {
   "codemirror_mode": {
    "name": "ipython",
    "version": 3
   },
   "file_extension": ".py",
   "mimetype": "text/x-python",
   "name": "python",
   "nbconvert_exporter": "python",
   "pygments_lexer": "ipython3",
   "version": "3.11.5"
  }
 },
 "nbformat": 4,
 "nbformat_minor": 2
}
